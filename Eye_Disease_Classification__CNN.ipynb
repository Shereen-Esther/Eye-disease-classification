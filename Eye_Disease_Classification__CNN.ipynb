{
 "cells": [
  {
   "cell_type": "markdown",
   "metadata": {
    "id": "qajQUPH3vf9V"
   },
   "source": [
    "***Eye Disease Classification -> Convolution Neural Network***\n",
    "\n",
    "\n"
   ]
  },
  {
   "cell_type": "code",
   "execution_count": null,
   "metadata": {},
   "outputs": [],
   "source": [
    "pip install Keras==2.5.0rc0"
   ]
  },
  {
   "cell_type": "code",
   "execution_count": null,
   "metadata": {},
   "outputs": [],
   "source": [
    "pip install Pillow"
   ]
  },
  {
   "cell_type": "code",
   "execution_count": 1,
   "metadata": {},
   "outputs": [
    {
     "name": "stdout",
     "output_type": "stream",
     "text": [
      "3.6.13\n"
     ]
    }
   ],
   "source": [
    "from platform import python_version\n",
    "\n",
    "print(python_version())"
   ]
  },
  {
   "cell_type": "code",
   "execution_count": 2,
   "metadata": {
    "id": "3zk2w5V0japw"
   },
   "outputs": [],
   "source": [
    "#Importing Libraries\n",
    "import tensorflow as tf\n",
    "from tensorflow import keras \n",
    "from tensorflow.keras.preprocessing.image import ImageDataGenerator  \n",
    "import numpy as np\n",
    "from tensorflow.keras.preprocessing import image"
   ]
  },
  {
   "cell_type": "code",
   "execution_count": 3,
   "metadata": {
    "colab": {
     "base_uri": "https://localhost:8080/",
     "height": 37
    },
    "id": "eFevnCYwjv69",
    "outputId": "302b118a-66a6-4939-d601-c3c4554ab337"
   },
   "outputs": [
    {
     "data": {
      "text/plain": [
       "'2.0.0'"
      ]
     },
     "execution_count": 3,
     "metadata": {},
     "output_type": "execute_result"
    }
   ],
   "source": [
    "tf.__version__"
   ]
  },
  {
   "cell_type": "markdown",
   "metadata": {
    "id": "BVSSGaHWRsrJ"
   },
   "source": [
    "***Data Preprocessing***"
   ]
  },
  {
   "cell_type": "code",
   "execution_count": 4,
   "metadata": {
    "id": "zuKQZeftjv-J"
   },
   "outputs": [
    {
     "name": "stdout",
     "output_type": "stream",
     "text": [
      "Found 34927 images belonging to 4 classes.\n"
     ]
    }
   ],
   "source": [
    "#Data Preprocessing of Training set\n",
    "\n",
    "#Applying Augumentation only on training set to avoid Overfitting issues (Transforming the images)\n",
    "train_datagen = ImageDataGenerator(\n",
    "    rescale = 1./255,       #FeatureScaling\n",
    "    shear_range = 0.2,\n",
    "    zoom_range = 0.2,       #Zooms the images\n",
    "    horizontal_flip = True  #Flips the image horizontally\n",
    ")\n",
    "\n",
    "training_set = train_datagen.flow_from_directory('Dataset/Training',         #Pointing to the input Training set\n",
    "                                                 target_size = (64, 64),     #Rescaling the images for faster computation\n",
    "                                                 batch_size = 32,            #Batch size per batch (32 images per batch)\n",
    "                                                 class_mode = 'categorical') #Since we have 4 different outputs"
   ]
  },
  {
   "cell_type": "code",
   "execution_count": 5,
   "metadata": {
    "id": "gVBnXf8JjwBr"
   },
   "outputs": [
    {
     "name": "stdout",
     "output_type": "stream",
     "text": [
      "Found 9081 images belonging to 4 classes.\n"
     ]
    }
   ],
   "source": [
    "#Data Preprocessing of Test set\n",
    "\n",
    "#Not Applying Augumentation on Test set\n",
    "test_datagen = ImageDataGenerator(\n",
    "    rescale = 1./255\n",
    ")\n",
    "test_set = test_datagen.flow_from_directory('Dataset/Testing',               #Pointing to the test set\n",
    "                                                 target_size = (64, 64),     #Rescaling of images same as training set\n",
    "                                                 batch_size = 32,            #Batch size per batch (32 images per batch)\n",
    "                                                 class_mode = 'categorical') #Since we have 4 different outputs"
   ]
  },
  {
   "cell_type": "markdown",
   "metadata": {
    "id": "XjO80K_XRxcF"
   },
   "source": [
    "***Building the Convolution Neural Network***"
   ]
  },
  {
   "cell_type": "code",
   "execution_count": 6,
   "metadata": {
    "id": "jd2m9yIOjwEx"
   },
   "outputs": [],
   "source": [
    "#Building the CNN\n",
    "\n",
    "#Step 0 -> Initializing the CNN\n",
    "cnn = tf.keras.models.Sequential()"
   ]
  },
  {
   "cell_type": "code",
   "execution_count": 7,
   "metadata": {
    "id": "K_czxyxWjwHF"
   },
   "outputs": [],
   "source": [
    "#Step 1 -> Convolution\n",
    "cnn.add(tf.keras.layers.Conv2D(filters = 32, kernel_size = 3, activation = 'relu', input_shape = [64,64,3])) #Neurons = 48 and applying Rectifier Activation Function"
   ]
  },
  {
   "cell_type": "code",
   "execution_count": 8,
   "metadata": {
    "id": "OLp4xLFzjwJs"
   },
   "outputs": [],
   "source": [
    "#Step 2 -> Pooling \n",
    "cnn.add(tf.keras.layers.MaxPool2D(pool_size = 2, strides = 2))"
   ]
  },
  {
   "cell_type": "code",
   "execution_count": 9,
   "metadata": {
    "id": "BNrsTc66jwLi"
   },
   "outputs": [],
   "source": [
    "#Adding 1 more convolutional layers\n",
    "\n",
    "cnn.add(tf.keras.layers.Conv2D(filters = 32, kernel_size = 3, activation = 'relu')) # Neurons = 32 and applying Rectifier Activation Function\n",
    "cnn.add(tf.keras.layers.MaxPool2D(pool_size = 2, strides = 2))"
   ]
  },
  {
   "cell_type": "code",
   "execution_count": 10,
   "metadata": {
    "id": "raY79IFtjwPS"
   },
   "outputs": [],
   "source": [
    "#Step 3 -> Flattening\n",
    "cnn.add(tf.keras.layers.Flatten())"
   ]
  },
  {
   "cell_type": "code",
   "execution_count": 11,
   "metadata": {
    "id": "CjSQZYWHjwS1"
   },
   "outputs": [],
   "source": [
    "#Step 4 -> Full Connection\n",
    "cnn.add(tf.keras.layers.Dense(units=128, activation='relu'))"
   ]
  },
  {
   "cell_type": "code",
   "execution_count": 12,
   "metadata": {
    "id": "VLaxg7eOjwVq"
   },
   "outputs": [],
   "source": [
    "#Step 5 -> Adding Output layer\n",
    "cnn.add(tf.keras.layers.Dense(units=4, activation='softmax')) #softmax activation function is used incase of multiple classes(4 different classes for our problem)"
   ]
  },
  {
   "cell_type": "code",
   "execution_count": 13,
   "metadata": {
    "id": "r7nBmFuS9PCN"
   },
   "outputs": [],
   "source": [
    "#Compiling the CNN\n",
    "cnn.compile(optimizer = 'adam', loss = 'categorical_crossentropy', metrics = ['accuracy'])"
   ]
  },
  {
   "cell_type": "code",
   "execution_count": 14,
   "metadata": {
    "id": "TOp5Q9S_9PEb"
   },
   "outputs": [
    {
     "name": "stdout",
     "output_type": "stream",
     "text": [
      "Train for 1092 steps, validate for 284 steps\n",
      "Epoch 1/25\n",
      "1092/1092 [==============================] - 782s 716ms/step - loss: 0.3508 - accuracy: 0.8777 - val_loss: 0.3380 - val_accuracy: 0.8740\n",
      "Epoch 2/25\n",
      "1092/1092 [==============================] - 776s 710ms/step - loss: 0.2220 - accuracy: 0.9164 - val_loss: 0.2868 - val_accuracy: 0.8891\n",
      "Epoch 3/25\n",
      "1092/1092 [==============================] - 766s 702ms/step - loss: 0.1898 - accuracy: 0.9265 - val_loss: 0.2888 - val_accuracy: 0.8925\n",
      "Epoch 4/25\n",
      "1092/1092 [==============================] - 763s 699ms/step - loss: 0.1718 - accuracy: 0.9319 - val_loss: 0.2788 - val_accuracy: 0.8858\n",
      "Epoch 5/25\n",
      "1092/1092 [==============================] - 769s 705ms/step - loss: 0.1593 - accuracy: 0.9364 - val_loss: 0.2606 - val_accuracy: 0.8898\n",
      "Epoch 6/25\n",
      "1092/1092 [==============================] - 769s 704ms/step - loss: 0.1500 - accuracy: 0.9391 - val_loss: 0.3006 - val_accuracy: 0.8963\n",
      "Epoch 7/25\n",
      "1092/1092 [==============================] - 770s 705ms/step - loss: 0.1387 - accuracy: 0.9438 - val_loss: 0.2865 - val_accuracy: 0.8810\n",
      "Epoch 8/25\n",
      "1092/1092 [==============================] - 776s 710ms/step - loss: 0.1372 - accuracy: 0.9436 - val_loss: 0.2826 - val_accuracy: 0.8987\n",
      "Epoch 9/25\n",
      "1092/1092 [==============================] - 764s 700ms/step - loss: 0.1295 - accuracy: 0.9463 - val_loss: 0.2719 - val_accuracy: 0.9006\n",
      "Epoch 10/25\n",
      "1092/1092 [==============================] - 765s 701ms/step - loss: 0.1250 - accuracy: 0.9485 - val_loss: 0.2635 - val_accuracy: 0.8915\n",
      "Epoch 11/25\n",
      "1092/1092 [==============================] - 762s 697ms/step - loss: 0.1200 - accuracy: 0.9504 - val_loss: 0.2607 - val_accuracy: 0.9028\n",
      "Epoch 12/25\n",
      "1092/1092 [==============================] - 760s 696ms/step - loss: 0.1153 - accuracy: 0.9512 - val_loss: 0.2454 - val_accuracy: 0.8974\n",
      "Epoch 13/25\n",
      "1092/1092 [==============================] - 763s 699ms/step - loss: 0.1116 - accuracy: 0.9525 - val_loss: 0.3110 - val_accuracy: 0.8967\n",
      "Epoch 14/25\n",
      "1092/1092 [==============================] - 763s 698ms/step - loss: 0.1112 - accuracy: 0.9532 - val_loss: 0.3092 - val_accuracy: 0.8955\n",
      "Epoch 15/25\n",
      "1092/1092 [==============================] - 762s 697ms/step - loss: 0.1076 - accuracy: 0.9553 - val_loss: 0.2373 - val_accuracy: 0.9051\n",
      "Epoch 16/25\n",
      "1092/1092 [==============================] - 768s 703ms/step - loss: 0.1052 - accuracy: 0.9558 - val_loss: 0.2329 - val_accuracy: 0.9069\n",
      "Epoch 17/25\n",
      "1092/1092 [==============================] - 764s 700ms/step - loss: 0.0992 - accuracy: 0.9581 - val_loss: 0.2489 - val_accuracy: 0.9054\n",
      "Epoch 18/25\n",
      "1092/1092 [==============================] - 764s 700ms/step - loss: 0.1007 - accuracy: 0.9572 - val_loss: 0.2185 - val_accuracy: 0.9080\n",
      "Epoch 19/25\n",
      "1092/1092 [==============================] - 766s 701ms/step - loss: 0.0974 - accuracy: 0.9586 - val_loss: 0.2512 - val_accuracy: 0.8879\n",
      "Epoch 20/25\n",
      "1092/1092 [==============================] - 760s 696ms/step - loss: 0.0972 - accuracy: 0.9589 - val_loss: 0.2423 - val_accuracy: 0.9034\n",
      "Epoch 21/25\n",
      "1092/1092 [==============================] - 762s 697ms/step - loss: 0.0955 - accuracy: 0.9591 - val_loss: 0.2341 - val_accuracy: 0.9138\n",
      "Epoch 22/25\n",
      "1092/1092 [==============================] - 763s 699ms/step - loss: 0.0898 - accuracy: 0.9624 - val_loss: 0.2330 - val_accuracy: 0.9072\n",
      "Epoch 23/25\n",
      "1092/1092 [==============================] - 762s 698ms/step - loss: 0.0924 - accuracy: 0.9613 - val_loss: 0.2557 - val_accuracy: 0.8978\n",
      "Epoch 24/25\n",
      "1092/1092 [==============================] - 763s 699ms/step - loss: 0.0894 - accuracy: 0.9618 - val_loss: 0.2586 - val_accuracy: 0.9123\n",
      "Epoch 25/25\n",
      "1092/1092 [==============================] - 760s 696ms/step - loss: 0.0864 - accuracy: 0.9634 - val_loss: 0.2461 - val_accuracy: 0.9060\n"
     ]
    },
    {
     "data": {
      "text/plain": [
       "<tensorflow.python.keras.callbacks.History at 0x7fc16bef7d30>"
      ]
     },
     "execution_count": 14,
     "metadata": {},
     "output_type": "execute_result"
    }
   ],
   "source": [
    "#Training the CNN on Training set and evaluvating it on the Test set\n",
    "cnn.fit(x = training_set, validation_data = test_set, epochs = 25)"
   ]
  },
  {
   "cell_type": "markdown",
   "metadata": {
    "id": "CKB8ytRJRk3h"
   },
   "source": [
    "***Performing a Single Prediction***"
   ]
  },
  {
   "cell_type": "code",
   "execution_count": 43,
   "metadata": {},
   "outputs": [
    {
     "name": "stdout",
     "output_type": "stream",
     "text": [
      "You have Glaucoma Eye Infection\n"
     ]
    }
   ],
   "source": [
    "#Performing a Single Prediction (Glaucoma)\n",
    "check_image = image.load_img('dataset/Valuvation/glaucoma.jpg', target_size = (64,64))\n",
    "check_image = image.img_to_array(check_image)\n",
    "check_image = np.expand_dims(check_image, axis = 0)\n",
    "\n",
    "rows, cols = (5, 5)\n",
    "result = [[0 for i in range(cols)] for j in range(rows)]\n",
    "result = cnn.predict(check_image)\n",
    "\n",
    "if(result[0][0] == 0.0 and result[0][1] == 0.0 and result[0][2] == 1.0 and result[0][3] == 0.0):\n",
    "    print('You have Glaucoma Eye Infection')\n",
    "elif(result[0][0] == 1.0 and result[0][1] == 0.0 and result[0][2] == 0.0 and result[0][3] == 0.0):\n",
    "    print('You have Cataract Eye Infection')\n",
    "elif(result[0][0] == 0.0 and result[0][1] == 1.0 and result[0][2] == 0.0 and result[0][3] == 0.0):\n",
    "    print('You have Diabetic Retinopathy Eye Infection')\n",
    "elif(result[0][0] == 0.0 and result[0][1] == 0.0 and result[0][2] == 0.0 and result[0][3] == 1.0):\n",
    "    print('You dont have any infection')"
   ]
  },
  {
   "cell_type": "code",
   "execution_count": 75,
   "metadata": {
    "id": "a8_MzMgG9rvT"
   },
   "outputs": [
    {
     "name": "stdout",
     "output_type": "stream",
     "text": [
      "You have Cataract Eye Infection\n"
     ]
    }
   ],
   "source": [
    "#Performing a Single Prediction(Cataract)\n",
    "check_image = image.load_img('dataset/Valuvation/cataract.jpg', target_size = (64,64))\n",
    "check_image = image.img_to_array(check_image)\n",
    "check_image = np.expand_dims(check_image, axis = 0)\n",
    "\n",
    "rows, cols = (5, 5)\n",
    "result = [[0 for i in range(cols)] for j in range(rows)]\n",
    "result = cnn.predict(check_image)\n",
    "\n",
    "if(result[0][0] == 0.0 and result[0][1] == 0.0 and result[0][2] == 1.0 and result[0][3] == 0.0):\n",
    "    print('You have Glaucoma Eye Infection')\n",
    "elif(result[0][0] == 1.0 and result[0][1] == 0.0 and result[0][2] == 0.0 and result[0][3] == 0.0):\n",
    "    print('You have Cataract Eye Infection')\n",
    "elif(result[0][0] == 0.0 and result[0][1] == 1.0 and result[0][2] == 0.0 and result[0][3] == 0.0):\n",
    "    print('You have Diabetic Retinopathy Eye Infection')\n",
    "elif(result[0][0] == 0.0 and result[0][1] == 0.0 and result[0][2] == 0.0 and result[0][3] == 1.0):\n",
    "    print('You dont have any infection')"
   ]
  },
  {
   "cell_type": "code",
   "execution_count": 45,
   "metadata": {
    "id": "JZAFL8rA9rxt"
   },
   "outputs": [
    {
     "name": "stdout",
     "output_type": "stream",
     "text": [
      "You have Diabetic Retinopathy Eye Infection\n"
     ]
    }
   ],
   "source": [
    "#Performing a Single Prediction(Diabetic Retinopathy)\n",
    "check_image = image.load_img('dataset/Valuvation/8585_left.jpeg', target_size = (64,64))\n",
    "check_image = image.img_to_array(check_image)\n",
    "check_image = np.expand_dims(check_image, axis = 0)\n",
    "\n",
    "rows, cols = (5, 5)\n",
    "result = [[0 for i in range(cols)] for j in range(rows)]\n",
    "result = cnn.predict(check_image)\n",
    "\n",
    "if(result[0][0] == 0.0 and result[0][1] == 0.0 and result[0][2] == 1.0 and result[0][3] == 0.0):\n",
    "    print('You have Glaucoma Eye Infection')\n",
    "elif(result[0][0] == 1.0 and result[0][1] == 0.0 and result[0][2] == 0.0 and result[0][3] == 0.0):\n",
    "    print('You have Cataract Eye Infection')\n",
    "elif(result[0][0] == 0.0 and result[0][1] == 1.0 and result[0][2] == 0.0 and result[0][3] == 0.0):\n",
    "    print('You have Diabetic Retinopathy Eye Infection')\n",
    "elif(result[0][0] == 0.0 and result[0][1] == 0.0 and result[0][2] == 0.0 and result[0][3] == 1.0):\n",
    "    print('You dont have any infection')"
   ]
  },
  {
   "cell_type": "code",
   "execution_count": 46,
   "metadata": {},
   "outputs": [
    {
     "name": "stdout",
     "output_type": "stream",
     "text": [
      "You have Diabetic Retinopathy Eye Infection\n"
     ]
    }
   ],
   "source": [
    "#Performing a Single Prediction(Diabetic Retinopathy)\n",
    "check_image = image.load_img('dataset/Valuvation/8585_right.jpeg', target_size = (64,64))\n",
    "check_image = image.img_to_array(check_image)\n",
    "check_image = np.expand_dims(check_image, axis = 0)\n",
    "\n",
    "rows, cols = (5, 5)\n",
    "result = [[0 for i in range(cols)] for j in range(rows)]\n",
    "result = cnn.predict(check_image)\n",
    "\n",
    "if(result[0][0] == 0.0 and result[0][1] == 0.0 and result[0][2] == 1.0 and result[0][3] == 0.0):\n",
    "    print('You have Glaucoma Eye Infection')\n",
    "elif(result[0][0] == 1.0 and result[0][1] == 0.0 and result[0][2] == 0.0 and result[0][3] == 0.0):\n",
    "    print('You have Cataract Eye Infection')\n",
    "elif(result[0][0] == 0.0 and result[0][1] == 1.0 and result[0][2] == 0.0 and result[0][3] == 0.0):\n",
    "    print('You have Diabetic Retinopathy Eye Infection')\n",
    "elif(result[0][0] == 0.0 and result[0][1] == 0.0 and result[0][2] == 0.0 and result[0][3] == 1.0):\n",
    "    print('You dont have any infection')"
   ]
  },
  {
   "cell_type": "code",
   "execution_count": 74,
   "metadata": {
    "id": "lDsGzExJ9r0I"
   },
   "outputs": [
    {
     "name": "stdout",
     "output_type": "stream",
     "text": [
      "You have Diabetic Retinopathy Eye Infection\n"
     ]
    },
    {
     "data": {
      "text/plain": [
       "array([[0., 1., 0., 0.]], dtype=float32)"
      ]
     },
     "execution_count": 74,
     "metadata": {},
     "output_type": "execute_result"
    }
   ],
   "source": [
    "#Performing a Single Prediction(Normal)\n",
    "\n",
    "check_image = image.load_img('dataset/Valuvation/normal.jpg', target_size = (64,64))\n",
    "check_image = image.img_to_array(check_image)\n",
    "check_image = np.expand_dims(check_image, axis = 0)\n",
    "\n",
    "rows, cols = (5, 5)\n",
    "result = [[0 for i in range(cols)] for j in range(rows)]\n",
    "result = cnn.predict(check_image)\n",
    "\n",
    "if(result[0][0] == 0.0 and result[0][1] == 0.0 and result[0][2] == 1.0 and result[0][3] == 0.0):\n",
    "    print('You have Glaucoma Eye Infection')\n",
    "elif(result[0][0] == 1.0 and result[0][1] == 0.0 and result[0][2] == 0.0 and result[0][3] == 0.0):\n",
    "    print('You have Cataract Eye Infection')\n",
    "elif(result[0][0] == 0.0 and result[0][1] == 1.0 and result[0][2] == 0.0 and result[0][3] == 0.0):\n",
    "    print('You have Diabetic Retinopathy Eye Infection')\n",
    "elif(result[0][0] == 0.0 and result[0][1] == 0.0 and result[0][2] == 0.0 and result[0][3] == 1.0):\n",
    "    print('You dont have any infection')\n",
    "result"
   ]
  },
  {
   "cell_type": "code",
   "execution_count": null,
   "metadata": {
    "id": "2Ro-p1Hu3Lxb"
   },
   "outputs": [],
   "source": []
  },
  {
   "cell_type": "code",
   "execution_count": null,
   "metadata": {
    "id": "gKSh-d6_3Lz8"
   },
   "outputs": [],
   "source": []
  },
  {
   "cell_type": "code",
   "execution_count": null,
   "metadata": {
    "id": "RcAGXazd3L2i"
   },
   "outputs": [],
   "source": []
  }
 ],
 "metadata": {
  "colab": {
   "collapsed_sections": [],
   "provenance": []
  },
  "kernelspec": {
   "display_name": "Python 3",
   "language": "python",
   "name": "python3"
  },
  "language_info": {
   "codemirror_mode": {
    "name": "ipython",
    "version": 3
   },
   "file_extension": ".py",
   "mimetype": "text/x-python",
   "name": "python",
   "nbconvert_exporter": "python",
   "pygments_lexer": "ipython3",
   "version": "3.6.13"
  }
 },
 "nbformat": 4,
 "nbformat_minor": 1
}
