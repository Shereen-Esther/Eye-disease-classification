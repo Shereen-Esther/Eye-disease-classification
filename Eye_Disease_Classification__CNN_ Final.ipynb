{
 "cells": [
  {
   "cell_type": "markdown",
   "metadata": {
    "id": "qajQUPH3vf9V"
   },
   "source": [
    "***Eye Disease Classification -> Convolution Neural Network***\n",
    "\n",
    "\n"
   ]
  },
  {
   "cell_type": "code",
   "execution_count": 1,
   "metadata": {},
   "outputs": [
    {
     "name": "stdout",
     "output_type": "stream",
     "text": [
      "3.6.13\n"
     ]
    }
   ],
   "source": [
    "from platform import python_version\n",
    "\n",
    "print(python_version())"
   ]
  },
  {
   "cell_type": "code",
   "execution_count": 2,
   "metadata": {
    "id": "3zk2w5V0japw"
   },
   "outputs": [],
   "source": [
    "#Importing Libraries\n",
    "import tensorflow as tf\n",
    "from tensorflow import keras \n",
    "from tensorflow.keras.preprocessing.image import ImageDataGenerator  \n",
    "import numpy as np\n",
    "from tensorflow.keras.preprocessing import image"
   ]
  },
  {
   "cell_type": "code",
   "execution_count": 3,
   "metadata": {
    "colab": {
     "base_uri": "https://localhost:8080/",
     "height": 37
    },
    "id": "eFevnCYwjv69",
    "outputId": "302b118a-66a6-4939-d601-c3c4554ab337"
   },
   "outputs": [
    {
     "data": {
      "text/plain": [
       "'2.0.0'"
      ]
     },
     "execution_count": 3,
     "metadata": {},
     "output_type": "execute_result"
    }
   ],
   "source": [
    "tf.__version__"
   ]
  },
  {
   "cell_type": "markdown",
   "metadata": {
    "id": "BVSSGaHWRsrJ"
   },
   "source": [
    "***Data Preprocessing***"
   ]
  },
  {
   "cell_type": "code",
   "execution_count": 4,
   "metadata": {
    "id": "zuKQZeftjv-J"
   },
   "outputs": [
    {
     "name": "stdout",
     "output_type": "stream",
     "text": [
      "Found 32285 images belonging to 4 classes.\n"
     ]
    }
   ],
   "source": [
    "#Data Preprocessing of Training set\n",
    "\n",
    "#Applying Augumentation only on training set to avoid Overfitting issues (Transforming the images)\n",
    "train_datagen = ImageDataGenerator(\n",
    "    rescale = 1./255,       #FeatureScaling\n",
    "    shear_range = 0.2,\n",
    "    zoom_range = 0.2,       #Zooms the images\n",
    "    horizontal_flip = True  #Flips the image horizontally\n",
    ")\n",
    "\n",
    "training_set = train_datagen.flow_from_directory('Dataset/Training',         #Pointing to the input Training set\n",
    "                                                 target_size = (64, 64),     #Rescaling the images for faster computation\n",
    "                                                 batch_size = 32,            #Batch size per batch (32 images per batch)\n",
    "                                                 class_mode = 'categorical') #Since we have 4 different outputs"
   ]
  },
  {
   "cell_type": "code",
   "execution_count": 5,
   "metadata": {
    "id": "gVBnXf8JjwBr"
   },
   "outputs": [
    {
     "name": "stdout",
     "output_type": "stream",
     "text": [
      "Found 8146 images belonging to 4 classes.\n"
     ]
    }
   ],
   "source": [
    "#Data Preprocessing of Test set\n",
    "\n",
    "#Not Applying Augumentation on Test set\n",
    "test_datagen = ImageDataGenerator(\n",
    "    rescale = 1./255\n",
    ")\n",
    "test_set = test_datagen.flow_from_directory('Dataset/Testing',               #Pointing to the test set\n",
    "                                                 target_size = (64, 64),     #Rescaling of images same as training set\n",
    "                                                 batch_size = 32,            #Batch size per batch (32 images per batch)\n",
    "                                                 class_mode = 'categorical') #Since we have 4 different outputs"
   ]
  },
  {
   "cell_type": "markdown",
   "metadata": {
    "id": "XjO80K_XRxcF"
   },
   "source": [
    "***Building the Convolution Neural Network***"
   ]
  },
  {
   "cell_type": "code",
   "execution_count": 6,
   "metadata": {
    "id": "jd2m9yIOjwEx"
   },
   "outputs": [],
   "source": [
    "#Building the CNN\n",
    "\n",
    "#Step 0 -> Initializing the CNN\n",
    "cnn = tf.keras.models.Sequential()"
   ]
  },
  {
   "cell_type": "code",
   "execution_count": 7,
   "metadata": {
    "id": "K_czxyxWjwHF"
   },
   "outputs": [],
   "source": [
    "#Step 1 -> Convolution\n",
    "cnn.add(tf.keras.layers.Conv2D(filters = 48, kernel_size = 3, activation = 'relu', input_shape = [64,64,3])) #Neurons = 48 and applying Rectifier Activation Function"
   ]
  },
  {
   "cell_type": "code",
   "execution_count": 8,
   "metadata": {
    "id": "OLp4xLFzjwJs"
   },
   "outputs": [],
   "source": [
    "#Step 2 -> Pooling \n",
    "cnn.add(tf.keras.layers.MaxPool2D(pool_size = 2, strides = 2))"
   ]
  },
  {
   "cell_type": "code",
   "execution_count": 9,
   "metadata": {
    "id": "BNrsTc66jwLi"
   },
   "outputs": [],
   "source": [
    "#Adding 2 more convolutional layers\n",
    "\n",
    "cnn.add(tf.keras.layers.Conv2D(filters = 48, kernel_size = 3, activation = 'relu')) # Neurons = 32 and applying Rectifier Activation Function\n",
    "cnn.add(tf.keras.layers.MaxPool2D(pool_size = 2, strides = 2))\n",
    "\n",
    "cnn.add(tf.keras.layers.Conv2D(filters = 32, kernel_size = 3, activation = 'relu')) # Neurons = 32 and applying Rectifier Activation Function\n",
    "cnn.add(tf.keras.layers.MaxPool2D(pool_size = 2, strides = 2))"
   ]
  },
  {
   "cell_type": "code",
   "execution_count": 10,
   "metadata": {
    "id": "raY79IFtjwPS"
   },
   "outputs": [],
   "source": [
    "#Step 3 -> Flattening\n",
    "cnn.add(tf.keras.layers.Flatten())"
   ]
  },
  {
   "cell_type": "code",
   "execution_count": 11,
   "metadata": {
    "id": "CjSQZYWHjwS1"
   },
   "outputs": [],
   "source": [
    "#Step 4 -> Full Connection\n",
    "cnn.add(tf.keras.layers.Dense(units=128, activation='relu'))\n",
    "cnn.add(tf.keras.layers.Dense(64, activation='relu'))"
   ]
  },
  {
   "cell_type": "code",
   "execution_count": 12,
   "metadata": {
    "id": "VLaxg7eOjwVq"
   },
   "outputs": [],
   "source": [
    "#Step 5 -> Adding Output layer\n",
    "cnn.add(tf.keras.layers.Dense(units=4, activation='softmax')) #softmax activation function is used incase of multiple classes(4 different classes for our problem)"
   ]
  },
  {
   "cell_type": "code",
   "execution_count": 13,
   "metadata": {
    "id": "r7nBmFuS9PCN"
   },
   "outputs": [],
   "source": [
    "#Compiling the CNN\n",
    "cnn.compile(optimizer = 'adam', loss = 'categorical_crossentropy', metrics = ['accuracy'])"
   ]
  },
  {
   "cell_type": "code",
   "execution_count": 14,
   "metadata": {
    "id": "TOp5Q9S_9PEb"
   },
   "outputs": [
    {
     "name": "stdout",
     "output_type": "stream",
     "text": [
      "Train for 1009 steps, validate for 255 steps\n",
      "Epoch 1/30\n",
      "1009/1009 [==============================] - 764s 757ms/step - loss: 0.2750 - accuracy: 0.9151 - val_loss: 0.3018 - val_accuracy: 0.8952\n",
      "Epoch 2/30\n",
      "1009/1009 [==============================] - 746s 740ms/step - loss: 0.1677 - accuracy: 0.9440 - val_loss: 0.2721 - val_accuracy: 0.9063\n",
      "Epoch 3/30\n",
      "1009/1009 [==============================] - 759s 753ms/step - loss: 0.1411 - accuracy: 0.9527 - val_loss: 0.2280 - val_accuracy: 0.9062\n",
      "Epoch 4/30\n",
      "1009/1009 [==============================] - 765s 758ms/step - loss: 0.1219 - accuracy: 0.9581 - val_loss: 0.2589 - val_accuracy: 0.9112\n",
      "Epoch 5/30\n",
      "1009/1009 [==============================] - 739s 732ms/step - loss: 0.1075 - accuracy: 0.9631 - val_loss: 0.2723 - val_accuracy: 0.9099\n",
      "Epoch 6/30\n",
      "1009/1009 [==============================] - 759s 752ms/step - loss: 0.1014 - accuracy: 0.9644 - val_loss: 0.2361 - val_accuracy: 0.9190\n",
      "Epoch 7/30\n",
      "1009/1009 [==============================] - 726s 719ms/step - loss: 0.0907 - accuracy: 0.9673 - val_loss: 0.1604 - val_accuracy: 0.9322\n",
      "Epoch 8/30\n",
      "1009/1009 [==============================] - 733s 726ms/step - loss: 0.0867 - accuracy: 0.9695 - val_loss: 0.1873 - val_accuracy: 0.9284\n",
      "Epoch 9/30\n",
      "1009/1009 [==============================] - 722s 715ms/step - loss: 0.0809 - accuracy: 0.9708 - val_loss: 0.1538 - val_accuracy: 0.9343\n",
      "Epoch 10/30\n",
      "1009/1009 [==============================] - 728s 722ms/step - loss: 0.0757 - accuracy: 0.9721 - val_loss: 0.1750 - val_accuracy: 0.9344\n",
      "Epoch 11/30\n",
      "1009/1009 [==============================] - 729s 723ms/step - loss: 0.0715 - accuracy: 0.9739 - val_loss: 0.1441 - val_accuracy: 0.9417\n",
      "Epoch 12/30\n",
      "1009/1009 [==============================] - 733s 726ms/step - loss: 0.0671 - accuracy: 0.9758 - val_loss: 0.1869 - val_accuracy: 0.9274\n",
      "Epoch 13/30\n",
      "1009/1009 [==============================] - 721s 715ms/step - loss: 0.0655 - accuracy: 0.9761 - val_loss: 0.1863 - val_accuracy: 0.9282\n",
      "Epoch 14/30\n",
      "1009/1009 [==============================] - 720s 713ms/step - loss: 0.0648 - accuracy: 0.9766 - val_loss: 0.1643 - val_accuracy: 0.9316\n",
      "Epoch 15/30\n",
      "1009/1009 [==============================] - 728s 721ms/step - loss: 0.0613 - accuracy: 0.9775 - val_loss: 0.1307 - val_accuracy: 0.9494\n",
      "Epoch 16/30\n",
      "1009/1009 [==============================] - 727s 721ms/step - loss: 0.0578 - accuracy: 0.9783 - val_loss: 0.1285 - val_accuracy: 0.9491\n",
      "Epoch 17/30\n",
      "1009/1009 [==============================] - 728s 721ms/step - loss: 0.0550 - accuracy: 0.9795 - val_loss: 0.1465 - val_accuracy: 0.9407\n",
      "Epoch 18/30\n",
      "1009/1009 [==============================] - 727s 721ms/step - loss: 0.0559 - accuracy: 0.9788 - val_loss: 0.1491 - val_accuracy: 0.9394\n",
      "Epoch 19/30\n",
      "1009/1009 [==============================] - 729s 722ms/step - loss: 0.0529 - accuracy: 0.9799 - val_loss: 0.1482 - val_accuracy: 0.9448\n",
      "Epoch 20/30\n",
      "1009/1009 [==============================] - 732s 725ms/step - loss: 0.0532 - accuracy: 0.9799 - val_loss: 0.1247 - val_accuracy: 0.9516\n",
      "Epoch 21/30\n",
      "1009/1009 [==============================] - 728s 721ms/step - loss: 0.0510 - accuracy: 0.9810 - val_loss: 0.1202 - val_accuracy: 0.9552\n",
      "Epoch 22/30\n",
      "1009/1009 [==============================] - 736s 730ms/step - loss: 0.0488 - accuracy: 0.9812 - val_loss: 0.1343 - val_accuracy: 0.9484\n",
      "Epoch 23/30\n",
      "1009/1009 [==============================] - 724s 718ms/step - loss: 0.0486 - accuracy: 0.9823 - val_loss: 0.1401 - val_accuracy: 0.9408\n",
      "Epoch 24/30\n",
      "1009/1009 [==============================] - 723s 716ms/step - loss: 0.0463 - accuracy: 0.9815 - val_loss: 0.1193 - val_accuracy: 0.9504\n",
      "Epoch 25/30\n",
      "1009/1009 [==============================] - 718s 712ms/step - loss: 0.0460 - accuracy: 0.9828 - val_loss: 0.1460 - val_accuracy: 0.9472\n",
      "Epoch 26/30\n",
      "1009/1009 [==============================] - 718s 711ms/step - loss: 0.0467 - accuracy: 0.9823 - val_loss: 0.1699 - val_accuracy: 0.9379\n",
      "Epoch 27/30\n",
      "1009/1009 [==============================] - 720s 713ms/step - loss: 0.0452 - accuracy: 0.9829 - val_loss: 0.1343 - val_accuracy: 0.9500\n",
      "Epoch 28/30\n",
      "1009/1009 [==============================] - 721s 714ms/step - loss: 0.0463 - accuracy: 0.9830 - val_loss: 0.1410 - val_accuracy: 0.9450\n",
      "Epoch 29/30\n",
      "1009/1009 [==============================] - 717s 711ms/step - loss: 0.0435 - accuracy: 0.9841 - val_loss: 0.1201 - val_accuracy: 0.9511\n",
      "Epoch 30/30\n",
      "1009/1009 [==============================] - 717s 711ms/step - loss: 0.0419 - accuracy: 0.9840 - val_loss: 0.1215 - val_accuracy: 0.9509\n"
     ]
    },
    {
     "data": {
      "text/plain": [
       "<tensorflow.python.keras.callbacks.History at 0x7fc4949d5a58>"
      ]
     },
     "execution_count": 14,
     "metadata": {},
     "output_type": "execute_result"
    }
   ],
   "source": [
    "#Training the CNN on Training set and evaluvating it on the Test set (Training Set Accuracy -> 98% and Test Set Accuracy -> 95%)\n",
    "cnn.fit(x = training_set, validation_data = test_set, epochs = 30)"
   ]
  },
  {
   "cell_type": "markdown",
   "metadata": {
    "id": "CKB8ytRJRk3h"
   },
   "source": [
    "***Performing a Single Prediction***"
   ]
  },
  {
   "cell_type": "code",
   "execution_count": 113,
   "metadata": {},
   "outputs": [
    {
     "name": "stdout",
     "output_type": "stream",
     "text": [
      "You have Cataract Eye Infection\n"
     ]
    }
   ],
   "source": [
    "#Performing a Single Prediction (Cataract)\n",
    "check_image1 = image.load_img('dataset/Valuvation/cataract.jpg', target_size = (64,64))\n",
    "check_image1 = image.img_to_array(check_image1)\n",
    "check_image1 = np.expand_dims(check_image1, axis = 0)\n",
    "\n",
    "rows, cols = (5, 5)\n",
    "result1 = [[0 for i in range(cols)] for j in range(rows)]\n",
    "result1 = cnn.predict(check_image1)\n",
    "\n",
    "if(result1[0][0] == 0.0 and result1[0][1] == 0.0 and result1[0][2] == 1.0 and result1[0][3] == 0.0):\n",
    "    print('You have Glaucoma Eye Infection')\n",
    "elif(result1[0][0] == 1.0 and result1[0][1] == 0.0 and result1[0][2] == 0.0 and result1[0][3] == 0.0):\n",
    "    print('You have Cataract Eye Infection')\n",
    "elif(result1[0][0] == 0.0 and result1[0][1] == 1.0 and result1[0][2] == 0.0 and result1[0][3] == 0.0):\n",
    "    print('You have Diabetic Retinopathy Eye Infection')\n",
    "elif(result1[0][0] == 0.0 and result1[0][1] == 0.0 and result1[0][2] == 0.0 and result1[0][3] == 1.0):\n",
    "    print('You dont have any infection')"
   ]
  },
  {
   "cell_type": "code",
   "execution_count": 114,
   "metadata": {},
   "outputs": [
    {
     "name": "stdout",
     "output_type": "stream",
     "text": [
      "You have Glaucoma Eye Infection\n"
     ]
    }
   ],
   "source": [
    "#Performing a Single Prediction (Glaucoma)\n",
    "check_image = image.load_img('dataset/Valuvation/glaucoma.jpg', target_size = (64,64))\n",
    "check_image = image.img_to_array(check_image)\n",
    "check_image = np.expand_dims(check_image, axis = 0)\n",
    "\n",
    "rows, cols = (5, 5)\n",
    "result = [[0 for i in range(cols)] for j in range(rows)]\n",
    "result = cnn.predict(check_image)\n",
    "\n",
    "if(result[0][0] == 0.0 and result[0][1] == 0.0 and result[0][2] == 1.0 and result[0][3] == 0.0):\n",
    "    print('You have Glaucoma Eye Infection')\n",
    "elif(result[0][0] == 1.0 and result[0][1] == 0.0 and result[0][2] == 0.0 and result[0][3] == 0.0):\n",
    "    print('You have Cataract Eye Infection')\n",
    "elif(result[0][0] == 0.0 and result[0][1] == 1.0 and result[0][2] == 0.0 and result[0][3] == 0.0):\n",
    "    print('You have Diabetic Retinopathy Eye Infection')\n",
    "elif(result[0][0] == 0.0 and result[0][1] == 0.0 and result[0][2] == 0.0 and result[0][3] == 1.0):\n",
    "    print('You dont have any infection')"
   ]
  },
  {
   "cell_type": "code",
   "execution_count": 115,
   "metadata": {
    "id": "JZAFL8rA9rxt"
   },
   "outputs": [
    {
     "name": "stdout",
     "output_type": "stream",
     "text": [
      "You have Diabetic Retinopathy Eye Infection\n"
     ]
    }
   ],
   "source": [
    "#Performing a Single Prediction(Diabetic Retinopathy)\n",
    "check_image = image.load_img('dataset/Valuvation/8585_left.jpeg', target_size = (64,64))\n",
    "check_image = image.img_to_array(check_image)\n",
    "check_image = np.expand_dims(check_image, axis = 0)\n",
    "\n",
    "rows, cols = (5, 5)\n",
    "result = [[0 for i in range(cols)] for j in range(rows)]\n",
    "result = cnn.predict(check_image)\n",
    "\n",
    "if(result[0][0] == 0.0 and result[0][1] == 0.0 and result[0][2] == 1.0 and result[0][3] == 0.0):\n",
    "    print('You have Glaucoma Eye Infection')\n",
    "elif(result[0][0] == 1.0 and result[0][1] == 0.0 and result[0][2] == 0.0 and result[0][3] == 0.0):\n",
    "    print('You have Cataract Eye Infection')\n",
    "elif(result[0][0] == 0.0 and result[0][1] == 1.0 and result[0][2] == 0.0 and result[0][3] == 0.0):\n",
    "    print('You have Diabetic Retinopathy Eye Infection')\n",
    "elif(result[0][0] == 0.0 and result[0][1] == 0.0 and result[0][2] == 0.0 and result[0][3] == 1.0):\n",
    "    print('You dont have any infection')"
   ]
  },
  {
   "cell_type": "code",
   "execution_count": 116,
   "metadata": {
    "id": "lDsGzExJ9r0I"
   },
   "outputs": [
    {
     "name": "stdout",
     "output_type": "stream",
     "text": [
      "You do not have any infection\n"
     ]
    }
   ],
   "source": [
    "#Performing a Single Prediction(Normal)\n",
    "\n",
    "check_image = image.load_img('dataset/Valuvation/normal.jpg', target_size = (64,64))\n",
    "check_image = image.img_to_array(check_image)\n",
    "check_image = np.expand_dims(check_image, axis = 0)\n",
    "\n",
    "rows, cols = (5, 5)\n",
    "result = [[0 for i in range(cols)] for j in range(rows)]\n",
    "result = cnn.predict(check_image)\n",
    "\n",
    "if(result[0][0] == 0.0 and result[0][1] == 0.0 and result[0][2] == 1.0 and result[0][3] == 0.0):\n",
    "    print('You have Glaucoma Eye Infection')\n",
    "elif(result[0][0] == 1.0 and result[0][1] == 0.0 and result[0][2] == 0.0 and result[0][3] == 0.0):\n",
    "    print('You have Cataract Eye Infection')\n",
    "elif(result[0][0] == 0.0 and result[0][1] == 1.0 and result[0][2] == 0.0 and result[0][3] == 0.0):\n",
    "    print('You have Diabetic Retinopathy Eye Infection')\n",
    "elif(result[0][0] == 0.0 and result[0][1] == 0.0 and result[0][2] == 0.0 and result[0][3] == 1.0):\n",
    "    print('You do not have any infection')"
   ]
  },
  {
   "cell_type": "code",
   "execution_count": null,
   "metadata": {
    "id": "RcAGXazd3L2i"
   },
   "outputs": [],
   "source": []
  }
 ],
 "metadata": {
  "colab": {
   "collapsed_sections": [],
   "provenance": []
  },
  "kernelspec": {
   "display_name": "Python 3 (ipykernel)",
   "language": "python",
   "name": "python3"
  },
  "language_info": {
   "codemirror_mode": {
    "name": "ipython",
    "version": 3
   },
   "file_extension": ".py",
   "mimetype": "text/x-python",
   "name": "python",
   "nbconvert_exporter": "python",
   "pygments_lexer": "ipython3",
   "version": "3.9.12"
  }
 },
 "nbformat": 4,
 "nbformat_minor": 1
}
